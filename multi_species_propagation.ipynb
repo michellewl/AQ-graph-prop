{
 "cells": [
  {
   "cell_type": "code",
   "execution_count": 1,
   "metadata": {},
   "outputs": [],
   "source": [
    "import numpy as np\n",
    "import scipy\n",
    "import pandas as pd\n",
    "import requests\n",
    "from os import makedirs, path, listdir, remove\n",
    "from bs4 import BeautifulSoup, SoupStrainer\n",
    "import zipfile as zpf\n",
    "from shutil import rmtree\n",
    "import matplotlib.pyplot as plt\n",
    "from scipy.spatial.distance import squareform, pdist, cosine\n",
    "from sklearn.metrics.pairwise import cosine_similarity\n",
    "from scipy.optimize import minimize\n",
    "from matplotlib import cm\n",
    "import re\n",
    "\n",
    "import httplib2\n",
    "import geopandas as gpd\n",
    "from tqdm import tqdm\n",
    "from graph_utils import *"
   ]
  },
  {
   "cell_type": "code",
   "execution_count": 13,
   "metadata": {},
   "outputs": [],
   "source": [
    "region = \"London\"\n",
    "start_date = \"1996-01-01\"\n",
    "end_date = \"2021-01-01\"\n",
    "data_folder = \"/Users/michellewan/Library/CloudStorage/OneDrive-UniversityofCambridge/Documents/PhD/MEng_Kevin/Data and code\""
   ]
  },
  {
   "cell_type": "code",
   "execution_count": 21,
   "metadata": {},
   "outputs": [
    {
     "name": "stdout",
     "output_type": "stream",
     "text": [
      "Daily data shape: (9133, 201)\n"
     ]
    }
   ],
   "source": [
    "# Load NO2 data\n",
    "\n",
    "species = \"NO2\"\n",
    "data_filename = f\"LAQN_{species}_{start_date}_{end_date}.csv\"\n",
    "data = Dataset(path.join(data_folder, data_filename))\n",
    "grouped_NO2 = data.group('D')\n",
    "print(\"Daily data shape:\", grouped_NO2.shape)\n",
    "\n",
    "# Cut off before COVID\n",
    "df_before_2020_NO2 = grouped_NO2.loc[grouped_NO2.index < '2020-01-01']\n",
    "\n",
    "# Rename columns\n",
    "df_before_2020_NO2 = df_before_2020_NO2.rename(columns={c: c+'_NO2' for c in df_before_2020_NO2.columns})"
   ]
  },
  {
   "cell_type": "code",
   "execution_count": 22,
   "metadata": {},
   "outputs": [
    {
     "name": "stdout",
     "output_type": "stream",
     "text": [
      "Daily data shape: (9133, 174)\n"
     ]
    }
   ],
   "source": [
    "# Load PM10 data\n",
    "\n",
    "species = \"PM10\"\n",
    "data_filename = f\"LAQN_{species}_{start_date}_{end_date}.csv\"\n",
    "data = Dataset(path.join(data_folder, data_filename))\n",
    "grouped_PM10 = data.group('D')\n",
    "print(\"Daily data shape:\", grouped_PM10.shape)\n",
    "\n",
    "# Cut off before COVID\n",
    "df_before_2020_PM10 = grouped_PM10.loc[grouped_PM10.index < '2020-01-01']\n",
    "\n",
    "# Rename columns\n",
    "df_before_2020_PM10 = df_before_2020_PM10.rename(columns={c: c+'_PM10' for c in df_before_2020_PM10.columns})\n"
   ]
  },
  {
   "cell_type": "code",
   "execution_count": 27,
   "metadata": {},
   "outputs": [
    {
     "name": "stdout",
     "output_type": "stream",
     "text": [
      "Daily data shape: (8766, 375)\n",
      "Start date: 1996-01-01 00:00:00\n",
      "End date: 2019-12-31 00:00:00\n"
     ]
    }
   ],
   "source": [
    "# Concatenate NO2 and PM10 data\n",
    "df_before_2020 = pd.concat([df_before_2020_NO2, df_before_2020_PM10], axis=1)\n",
    "print(\"Daily data shape:\", df_before_2020.shape)\n",
    "print(\"Start date:\", df_before_2020.index.min())\n",
    "print(\"End date:\", df_before_2020.index.max())"
   ]
  },
  {
   "cell_type": "code",
   "execution_count": 28,
   "metadata": {},
   "outputs": [
    {
     "name": "stdout",
     "output_type": "stream",
     "text": [
      "Complete subset shape: (500, 33)\n",
      "Stations: Index(['BG1_NO2', 'BY7_NO2', 'EA1_NO2', 'EN4_NO2', 'GB6_NO2', 'GR5_NO2',\n",
      "       'HK4_NO2', 'HV3_NO2', 'LH2_NO2', 'HS4_NO2', 'IS2_NO2', 'KC2_NO2',\n",
      "       'KC3_NO2', 'WE0_NO2', 'LB1_NO2', 'LW2_NO2', 'RB1_NO2', 'WA4_NO2',\n",
      "       'WA2_NO2', 'MY1_NO2', 'BG2_PM10', 'BN2_PM10', 'BX4_PM10', 'CD3_PM10',\n",
      "       'EA2_PM10', 'GB6_PM10', 'GR5_PM10', 'HR1_PM10', 'LH2_PM10', 'LW2_PM10',\n",
      "       'SK1_PM10', 'ST4_PM10', 'MY1_PM10'],\n",
      "      dtype='object')\n",
      "2003-10-16 00:00:00 2005-02-26 00:00:00\n"
     ]
    }
   ],
   "source": [
    "# Find complete subset\n",
    "complete_subset, column_names = get_complete_subset(df_before_2020, num_valid_values=500)\n",
    "print(\"Complete subset shape:\", complete_subset.shape)\n",
    "print(\"Stations:\", column_names)\n",
    "print(complete_subset.index.min(), complete_subset.index.max())"
   ]
  },
  {
   "cell_type": "code",
   "execution_count": 33,
   "metadata": {},
   "outputs": [],
   "source": [
    "# Normalise data between 0 and 1\n",
    "\n",
    "def normalise_data(data):\n",
    "    return (data - data.min()) / (data.max() - data.min())\n",
    "\n",
    "normalised_data = normalise_data(complete_subset)"
   ]
  },
  {
   "cell_type": "code",
   "execution_count": 35,
   "metadata": {},
   "outputs": [
    {
     "data": {
      "text/html": [
       "<div>\n",
       "<style scoped>\n",
       "    .dataframe tbody tr th:only-of-type {\n",
       "        vertical-align: middle;\n",
       "    }\n",
       "\n",
       "    .dataframe tbody tr th {\n",
       "        vertical-align: top;\n",
       "    }\n",
       "\n",
       "    .dataframe thead th {\n",
       "        text-align: right;\n",
       "    }\n",
       "</style>\n",
       "<table border=\"1\" class=\"dataframe\">\n",
       "  <thead>\n",
       "    <tr style=\"text-align: right;\">\n",
       "      <th></th>\n",
       "      <th>BG1_NO2</th>\n",
       "      <th>BY7_NO2</th>\n",
       "      <th>EA1_NO2</th>\n",
       "      <th>EN4_NO2</th>\n",
       "      <th>GB6_NO2</th>\n",
       "      <th>GR5_NO2</th>\n",
       "      <th>HK4_NO2</th>\n",
       "      <th>HV3_NO2</th>\n",
       "      <th>LH2_NO2</th>\n",
       "      <th>HS4_NO2</th>\n",
       "      <th>...</th>\n",
       "      <th>CD3_PM10</th>\n",
       "      <th>EA2_PM10</th>\n",
       "      <th>GB6_PM10</th>\n",
       "      <th>GR5_PM10</th>\n",
       "      <th>HR1_PM10</th>\n",
       "      <th>LH2_PM10</th>\n",
       "      <th>LW2_PM10</th>\n",
       "      <th>SK1_PM10</th>\n",
       "      <th>ST4_PM10</th>\n",
       "      <th>MY1_PM10</th>\n",
       "    </tr>\n",
       "    <tr>\n",
       "      <th>date</th>\n",
       "      <th></th>\n",
       "      <th></th>\n",
       "      <th></th>\n",
       "      <th></th>\n",
       "      <th></th>\n",
       "      <th></th>\n",
       "      <th></th>\n",
       "      <th></th>\n",
       "      <th></th>\n",
       "      <th></th>\n",
       "      <th></th>\n",
       "      <th></th>\n",
       "      <th></th>\n",
       "      <th></th>\n",
       "      <th></th>\n",
       "      <th></th>\n",
       "      <th></th>\n",
       "      <th></th>\n",
       "      <th></th>\n",
       "      <th></th>\n",
       "      <th></th>\n",
       "    </tr>\n",
       "  </thead>\n",
       "  <tbody>\n",
       "    <tr>\n",
       "      <th>2003-10-16</th>\n",
       "      <td>0.320757</td>\n",
       "      <td>0.350520</td>\n",
       "      <td>0.350898</td>\n",
       "      <td>0.445417</td>\n",
       "      <td>0.459489</td>\n",
       "      <td>0.411725</td>\n",
       "      <td>0.234698</td>\n",
       "      <td>0.393964</td>\n",
       "      <td>0.477767</td>\n",
       "      <td>0.340343</td>\n",
       "      <td>...</td>\n",
       "      <td>0.490679</td>\n",
       "      <td>0.089686</td>\n",
       "      <td>0.373671</td>\n",
       "      <td>0.416636</td>\n",
       "      <td>0.304685</td>\n",
       "      <td>0.452281</td>\n",
       "      <td>0.367191</td>\n",
       "      <td>0.385596</td>\n",
       "      <td>0.411724</td>\n",
       "      <td>0.349094</td>\n",
       "    </tr>\n",
       "    <tr>\n",
       "      <th>2003-10-17</th>\n",
       "      <td>0.369123</td>\n",
       "      <td>0.402029</td>\n",
       "      <td>0.392830</td>\n",
       "      <td>0.471828</td>\n",
       "      <td>0.545091</td>\n",
       "      <td>0.451161</td>\n",
       "      <td>0.231407</td>\n",
       "      <td>0.433025</td>\n",
       "      <td>0.549947</td>\n",
       "      <td>0.325944</td>\n",
       "      <td>...</td>\n",
       "      <td>0.531101</td>\n",
       "      <td>0.091808</td>\n",
       "      <td>0.386798</td>\n",
       "      <td>0.438739</td>\n",
       "      <td>0.334739</td>\n",
       "      <td>0.435826</td>\n",
       "      <td>0.383405</td>\n",
       "      <td>0.394999</td>\n",
       "      <td>0.478716</td>\n",
       "      <td>0.336824</td>\n",
       "    </tr>\n",
       "    <tr>\n",
       "      <th>2003-10-18</th>\n",
       "      <td>0.330719</td>\n",
       "      <td>0.398023</td>\n",
       "      <td>0.349562</td>\n",
       "      <td>0.348346</td>\n",
       "      <td>0.490055</td>\n",
       "      <td>0.366843</td>\n",
       "      <td>0.190798</td>\n",
       "      <td>0.375249</td>\n",
       "      <td>0.447245</td>\n",
       "      <td>0.293276</td>\n",
       "      <td>...</td>\n",
       "      <td>0.520483</td>\n",
       "      <td>0.099709</td>\n",
       "      <td>0.401768</td>\n",
       "      <td>0.422546</td>\n",
       "      <td>0.392701</td>\n",
       "      <td>0.456593</td>\n",
       "      <td>0.353839</td>\n",
       "      <td>0.433020</td>\n",
       "      <td>0.488486</td>\n",
       "      <td>0.337440</td>\n",
       "    </tr>\n",
       "    <tr>\n",
       "      <th>2003-10-19</th>\n",
       "      <td>0.097021</td>\n",
       "      <td>0.124506</td>\n",
       "      <td>0.130572</td>\n",
       "      <td>0.105829</td>\n",
       "      <td>0.238291</td>\n",
       "      <td>0.180762</td>\n",
       "      <td>0.053199</td>\n",
       "      <td>0.147272</td>\n",
       "      <td>0.366998</td>\n",
       "      <td>0.120264</td>\n",
       "      <td>...</td>\n",
       "      <td>0.257014</td>\n",
       "      <td>0.046330</td>\n",
       "      <td>0.197603</td>\n",
       "      <td>0.251016</td>\n",
       "      <td>0.221268</td>\n",
       "      <td>0.261518</td>\n",
       "      <td>0.183596</td>\n",
       "      <td>0.218724</td>\n",
       "      <td>0.255408</td>\n",
       "      <td>0.176600</td>\n",
       "    </tr>\n",
       "    <tr>\n",
       "      <th>2003-10-20</th>\n",
       "      <td>0.213100</td>\n",
       "      <td>0.360042</td>\n",
       "      <td>0.208154</td>\n",
       "      <td>0.300621</td>\n",
       "      <td>0.380820</td>\n",
       "      <td>0.337914</td>\n",
       "      <td>0.149320</td>\n",
       "      <td>0.254350</td>\n",
       "      <td>0.307008</td>\n",
       "      <td>0.186218</td>\n",
       "      <td>...</td>\n",
       "      <td>0.405611</td>\n",
       "      <td>0.048398</td>\n",
       "      <td>0.209592</td>\n",
       "      <td>0.228359</td>\n",
       "      <td>0.235529</td>\n",
       "      <td>0.354063</td>\n",
       "      <td>0.196471</td>\n",
       "      <td>0.230649</td>\n",
       "      <td>0.254710</td>\n",
       "      <td>0.137225</td>\n",
       "    </tr>\n",
       "  </tbody>\n",
       "</table>\n",
       "<p>5 rows × 33 columns</p>\n",
       "</div>"
      ],
      "text/plain": [
       "             BG1_NO2   BY7_NO2   EA1_NO2   EN4_NO2   GB6_NO2   GR5_NO2  \\\n",
       "date                                                                     \n",
       "2003-10-16  0.320757  0.350520  0.350898  0.445417  0.459489  0.411725   \n",
       "2003-10-17  0.369123  0.402029  0.392830  0.471828  0.545091  0.451161   \n",
       "2003-10-18  0.330719  0.398023  0.349562  0.348346  0.490055  0.366843   \n",
       "2003-10-19  0.097021  0.124506  0.130572  0.105829  0.238291  0.180762   \n",
       "2003-10-20  0.213100  0.360042  0.208154  0.300621  0.380820  0.337914   \n",
       "\n",
       "             HK4_NO2   HV3_NO2   LH2_NO2   HS4_NO2  ...  CD3_PM10  EA2_PM10  \\\n",
       "date                                                ...                       \n",
       "2003-10-16  0.234698  0.393964  0.477767  0.340343  ...  0.490679  0.089686   \n",
       "2003-10-17  0.231407  0.433025  0.549947  0.325944  ...  0.531101  0.091808   \n",
       "2003-10-18  0.190798  0.375249  0.447245  0.293276  ...  0.520483  0.099709   \n",
       "2003-10-19  0.053199  0.147272  0.366998  0.120264  ...  0.257014  0.046330   \n",
       "2003-10-20  0.149320  0.254350  0.307008  0.186218  ...  0.405611  0.048398   \n",
       "\n",
       "            GB6_PM10  GR5_PM10  HR1_PM10  LH2_PM10  LW2_PM10  SK1_PM10  \\\n",
       "date                                                                     \n",
       "2003-10-16  0.373671  0.416636  0.304685  0.452281  0.367191  0.385596   \n",
       "2003-10-17  0.386798  0.438739  0.334739  0.435826  0.383405  0.394999   \n",
       "2003-10-18  0.401768  0.422546  0.392701  0.456593  0.353839  0.433020   \n",
       "2003-10-19  0.197603  0.251016  0.221268  0.261518  0.183596  0.218724   \n",
       "2003-10-20  0.209592  0.228359  0.235529  0.354063  0.196471  0.230649   \n",
       "\n",
       "            ST4_PM10  MY1_PM10  \n",
       "date                            \n",
       "2003-10-16  0.411724  0.349094  \n",
       "2003-10-17  0.478716  0.336824  \n",
       "2003-10-18  0.488486  0.337440  \n",
       "2003-10-19  0.255408  0.176600  \n",
       "2003-10-20  0.254710  0.137225  \n",
       "\n",
       "[5 rows x 33 columns]"
      ]
     },
     "execution_count": 35,
     "metadata": {},
     "output_type": "execute_result"
    }
   ],
   "source": [
    "normalised_data.head()"
   ]
  },
  {
   "cell_type": "code",
   "execution_count": 36,
   "metadata": {},
   "outputs": [],
   "source": [
    "# Get PM10 column indices\n",
    "PM10_indices = [i for i, name in enumerate(column_names) if name.endswith('_PM10')]"
   ]
  },
  {
   "cell_type": "code",
   "execution_count": 37,
   "metadata": {},
   "outputs": [
    {
     "data": {
      "text/plain": [
       "[20, 21, 22, 23, 24, 25, 26, 27, 28, 29, 30, 31, 32]"
      ]
     },
     "execution_count": 37,
     "metadata": {},
     "output_type": "execute_result"
    }
   ],
   "source": [
    "PM10_indices"
   ]
  },
  {
   "cell_type": "code",
   "execution_count": null,
   "metadata": {},
   "outputs": [],
   "source": []
  }
 ],
 "metadata": {
  "kernelspec": {
   "display_name": "PhDy1",
   "language": "python",
   "name": "python3"
  },
  "language_info": {
   "codemirror_mode": {
    "name": "ipython",
    "version": 3
   },
   "file_extension": ".py",
   "mimetype": "text/x-python",
   "name": "python",
   "nbconvert_exporter": "python",
   "pygments_lexer": "ipython3",
   "version": "3.8.5"
  }
 },
 "nbformat": 4,
 "nbformat_minor": 2
}
